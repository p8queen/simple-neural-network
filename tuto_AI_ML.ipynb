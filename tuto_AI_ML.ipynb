{
 "cells": [
  {
   "cell_type": "code",
   "execution_count": 1,
   "id": "ea649646-096b-4543-a695-8160ea7b84ad",
   "metadata": {},
   "outputs": [],
   "source": [
    "import numpy as np\n",
    "\n",
    "def sigmoid(x):\n",
    "        \"\"\"\n",
    "        Takes in weighted sum of the inputs and normalizes\n",
    "        them through between 0 and 1 through a sigmoid function\n",
    "        \"\"\"\n",
    "        return 1 / (1 + np.exp(-x))\n",
    "\n",
    "def sigmoid_derivative(x):\n",
    "    \"\"\"\n",
    "    The derivative of the sigmoid function used to\n",
    "    calculate necessary weight adjustments\n",
    "    \"\"\"\n",
    "    return x * (1 - x)\n",
    "\n",
    "np.random.seed(12)\n",
    "synaptic_weights = 2 * np.random.random((3,1)) - 1 #[-1 ... 1]\n",
    "training_inputs = np.array([[0,0,1],\n",
    "                             [1,1,1],\n",
    "                            [1,0,1],\n",
    "                            [0,1,1]])\n",
    "training_outputs = np.array([[0,1,1,0]]).T"
   ]
  },
  {
   "cell_type": "markdown",
   "id": "cd412d77-58f5-45cd-b124-32ee2530af89",
   "metadata": {},
   "source": [
    " ex: with vector [0,0,1] . W, The dot product\n",
    "\n",
    "$$\\sum_{i=1}^3 x_i w_i = 0*w_1 + 0*w_2 + 0*w_3$$\n",
    "\n",
    "adjust weights $$= error * input * signoid'$$\n",
    "\n"
   ]
  },
  {
   "cell_type": "code",
   "execution_count": 2,
   "id": "37b29659-da42-4d17-bf58-4dce3970ce70",
   "metadata": {},
   "outputs": [
    {
     "name": "stdout",
     "output_type": "stream",
     "text": [
      "random weights: \n",
      "[[-0.69167432]\n",
      " [ 0.48009939]\n",
      " [-0.47336997]]\n"
     ]
    }
   ],
   "source": [
    "print(f'random weights: \\n{synaptic_weights}')"
   ]
  },
  {
   "cell_type": "code",
   "execution_count": 3,
   "id": "2856e5e3-c2f7-4bfc-9792-a2f6de0356ed",
   "metadata": {},
   "outputs": [
    {
     "name": "stdout",
     "output_type": "stream",
     "text": [
      "************\n",
      "[[-0.38381893]\n",
      " [ 0.66484145]\n",
      " [ 0.76224808]\n",
      " [-0.50168235]]\n",
      "[[-0.09077393]\n",
      " [ 0.14814482]\n",
      " [ 0.13813913]\n",
      " [-0.12541917]]\n",
      "[[0.38381893]\n",
      " [0.33515855]\n",
      " [0.23775192]\n",
      " [0.50168235]]\n",
      "[[-0.40539036]\n",
      " [ 0.50282505]\n",
      " [-0.40327911]]\n",
      "************\n",
      "[[-0.01377963]\n",
      " [ 0.01122916]\n",
      " [ 0.00912001]\n",
      " [-0.01119686]]\n",
      "[[-1.87261877e-04]\n",
      " [ 1.24678177e-04]\n",
      " [ 8.24160565e-05]\n",
      " [-1.23965874e-04]]\n",
      "[[0.01377963]\n",
      " [0.98877084]\n",
      " [0.99087999]\n",
      " [0.01119686]]\n",
      "[[ 8.95901753]\n",
      " [-0.21017331]\n",
      " [-4.27079221]]\n",
      "************\n",
      "[[-0.00966685]\n",
      " [ 0.00788203]\n",
      " [ 0.00641099]\n",
      " [-0.00786534]]\n",
      "[[-9.25445592e-05]\n",
      " [ 6.16367227e-05]\n",
      " [ 4.08372718e-05]\n",
      " [-6.13769906e-05]]\n",
      "[[0.00966685]\n",
      " [0.99211797]\n",
      " [0.99358901]\n",
      " [0.00786534]]\n",
      "[[ 9.67275206]\n",
      " [-0.20805351]\n",
      " [-4.62939079]]\n",
      "************\n",
      "[[-0.00786544]\n",
      " [ 0.00641484]\n",
      " [ 0.00522116]\n",
      " [-0.00640357]]\n",
      "[[-6.13785477e-05]\n",
      " [ 4.08861498e-05]\n",
      " [ 2.71181582e-05]\n",
      " [-4.07431486e-05]]\n",
      "[[0.00786544]\n",
      " [0.99358516]\n",
      " [0.99477884]\n",
      " [0.00640357]]\n",
      "[[10.08724954]\n",
      " [-0.20709476]\n",
      " [-4.8374144 ]]\n"
     ]
    }
   ],
   "source": [
    "plt_error = []\n",
    "for iteration in range(20000):\n",
    "    input_layer = training_inputs\n",
    "    outputs = sigmoid(np.dot(input_layer, synaptic_weights))\n",
    "    error = training_outputs  - outputs\n",
    "    plt_error.append(abs(error).sum())\n",
    "    adjustments = error * sigmoid_derivative(outputs)\n",
    "    synaptic_weights += np.dot(input_layer.T, adjustments)\n",
    "    if iteration%5000 == 0:\n",
    "        print('************')\n",
    "        print(error)\n",
    "        print(adjustments)\n",
    "        print(outputs)\n",
    "        print(synaptic_weights)"
   ]
  },
  {
   "cell_type": "code",
   "execution_count": 4,
   "id": "ac89732b-d0b4-48cc-a064-1592de7ad8da",
   "metadata": {},
   "outputs": [
    {
     "data": {
      "text/plain": [
       "array([[0, 0, 1],\n",
       "       [1, 1, 1],\n",
       "       [1, 0, 1],\n",
       "       [0, 1, 1]])"
      ]
     },
     "execution_count": 4,
     "metadata": {},
     "output_type": "execute_result"
    }
   ],
   "source": [
    "input_layer"
   ]
  },
  {
   "cell_type": "code",
   "execution_count": 5,
   "id": "8656e66e-3291-4538-8157-27620fb9fc03",
   "metadata": {},
   "outputs": [
    {
     "data": {
      "text/plain": [
       "(array([[0, 0, 1],\n",
       "        [1, 1, 1],\n",
       "        [1, 0, 1],\n",
       "        [0, 1, 1]]),\n",
       " array([[0.00679772],\n",
       "        [0.99445513],\n",
       "        [0.99548507],\n",
       "        [0.00553637]]),\n",
       " array([[-4.98437191],\n",
       "        [ 5.18934689],\n",
       "        [ 5.39586524],\n",
       "        [-5.19089027]]))"
      ]
     },
     "execution_count": 5,
     "metadata": {},
     "output_type": "execute_result"
    }
   ],
   "source": [
    "input_layer, outputs, np.dot(input_layer, synaptic_weights)"
   ]
  },
  {
   "cell_type": "code",
   "execution_count": 6,
   "id": "5f5cd2a0-5fd0-4df7-998c-5b92ce39da5f",
   "metadata": {},
   "outputs": [
    {
     "name": "stdout",
     "output_type": "stream",
     "text": [
      "outpus after training:\n",
      " [[0.00679772]\n",
      " [0.99445513]\n",
      " [0.99548507]\n",
      " [0.00553637]]\n"
     ]
    }
   ],
   "source": [
    "print(f'outpus after training:\\n {outputs}')"
   ]
  },
  {
   "cell_type": "code",
   "execution_count": 7,
   "id": "5b8ed2aa-2d9e-4901-a20c-11b2b867bedb",
   "metadata": {},
   "outputs": [
    {
     "data": {
      "image/png": "[encoded data removed]",
      "text/plain": [
       "<Figure size 864x288 with 1 Axes>"
      ]
     },
     "metadata": {
      "needs_background": "light"
     },
     "output_type": "display_data"
    }
   ],
   "source": [
    "import matplotlib.pyplot as plt\n",
    "\n",
    "#setting figure size\n",
    "from matplotlib.pylab import rcParams\n",
    "rcParams['figure.figsize'] = 12,4\n",
    "\n",
    "X = [x for x in range(len(plt_error))]\n",
    "y = plt_error\n",
    "\n",
    "plt.plot(X,y, color='navy', lw=1, label='Error')\n",
    "plt.legend()\n",
    "plt.xlabel('Iterations')\n",
    "plt.ylabel('Delta Error ')\n",
    "plt.title('Delta Error Iterations')\n",
    "plt.show();"
   ]
  },
  {
   "cell_type": "markdown",
   "id": "23bf266b-8555-47b1-84f4-6e9df91b0009",
   "metadata": {},
   "source": [
    "After 5k or k iterations, the improvement is very slow. "
   ]
  }
 ],
 "metadata": {
  "kernelspec": {
   "display_name": "Python 3 (ipykernel)",
   "language": "python",
   "name": "python3"
  },
  "language_info": {
   "codemirror_mode": {
    "name": "ipython",
    "version": 3
   },
   "file_extension": ".py",
   "mimetype": "text/x-python",
   "name": "python",
   "nbconvert_exporter": "python",
   "pygments_lexer": "ipython3",
   "version": "3.8.10"
  }
 },
 "nbformat": 4,
 "nbformat_minor": 5
}
